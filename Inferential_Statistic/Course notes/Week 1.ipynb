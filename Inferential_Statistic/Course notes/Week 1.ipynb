{
 "cells": [
  {
   "cell_type": "markdown",
   "metadata": {},
   "source": [
    "# Introduction to Inference Methods\n",
    "\n",
    "\n",
    "Learning how to use data to\n",
    "* Estimate parameters with confidence\n",
    "* Test theories about parameters\n"
   ]
  },
  {
   "cell_type": "markdown",
   "metadata": {},
   "source": [
    "Type 1 error: Null Hypothesis is true but we reject it. Alpha: significance level <br>\n",
    "type 2 error: Do not reject null hypothesis when alternative is true. Beta for type 2"
   ]
  },
  {
   "cell_type": "markdown",
   "metadata": {},
   "source": [
    "Decision Rule: \n",
    "* Reject the Null if p-value is <= alpha"
   ]
  },
  {
   "cell_type": "markdown",
   "metadata": {},
   "source": [
    "## Introduction to Bayesian\n",
    "1. Frequentist\n",
    "2. Bayesian"
   ]
  },
  {
   "cell_type": "markdown",
   "metadata": {},
   "source": [
    "### Bayesian:\n",
    "1. Probabilities are made in your mind rather than in the world\n",
    "2. You can update the probabilities as you get new information"
   ]
  },
  {
   "cell_type": "markdown",
   "metadata": {},
   "source": [
    "## Frequentist:\n",
    "1.  frequentist statistics have either extensions or adaptations for Bayesian statistics\n",
    "2.  The idea in frequentist statistics is because the game has already been played, we already know the answer. Your answer is either correct or incorrect. You either have a zero percent chance of getting it right or a 100 percent chance. Any number that you assign in between can only be given in the Bayesian framework. The reason for this is that in frequentist statistics, probabilities are made of the world. So, whether something is actually correct or incorrect"
   ]
  },
  {
   "cell_type": "markdown",
   "metadata": {},
   "source": [
    "**Confidence Interval** <br>\n",
    "Best Estimage or statistic <br>\n",
    "(+ or -)\n",
    "<br>\n",
    "Margin Of error.\n",
    "<br>\n",
    "***A few*** x ***average distances***  \n",
    "(Reflects how confident we want to be) x (Reflects sampling variability in that statistic)"
   ]
  },
  {
   "cell_type": "markdown",
   "metadata": {},
   "source": [
    "##### 95% confidence interval : std dev = 1.96"
   ]
  },
  {
   "cell_type": "markdown",
   "metadata": {},
   "source": [
    "1. True Variability\n",
    "2. its Estimate"
   ]
  },
  {
   "cell_type": "markdown",
   "metadata": {},
   "source": [
    "1. Standard Error of the Statistic\n",
    "2. Estimated Standard Error of the Statistic"
   ]
  },
  {
   "cell_type": "markdown",
   "metadata": {},
   "source": [
    "## Python Scientific libraries\n",
    "#### Foundation Libraries\n",
    "* Numpy - Arrays and linear algebra\n",
    "* Scipy - large collection of numerical algorithms\n",
    "* Matplotlib - Powerful graphing and plotting library\n",
    "\n",
    "#### Data Science Libraries\n",
    "* Seaborn - higher level plotting\n",
    "* Pandas - Data containers, data maangement tools\n",
    "* Statsmodel - Statistical analysis, data modeling\n",
    "* Sklearn - Machine Learning and predictive analysis"
   ]
  }
 ],
 "metadata": {
  "kernelspec": {
   "display_name": "Python 3",
   "language": "python",
   "name": "python3"
  },
  "language_info": {
   "codemirror_mode": {
    "name": "ipython",
    "version": 3
   },
   "file_extension": ".py",
   "mimetype": "text/x-python",
   "name": "python",
   "nbconvert_exporter": "python",
   "pygments_lexer": "ipython3",
   "version": "3.8.2"
  }
 },
 "nbformat": 4,
 "nbformat_minor": 4
}
