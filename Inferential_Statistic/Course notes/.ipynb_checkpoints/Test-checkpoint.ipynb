{
 "cells": [
  {
   "cell_type": "markdown",
   "metadata": {},
   "source": [
    "## Creating confidence intervals in python\n",
    "In this assessment, you will look at data from a study on toddler sleep habits. \n",
    "\n",
    "The confidence intervals you create and the questions you answer in this Jupyter notebook will be used to answer questions in the following graded assignment."
   ]
  },
  {
   "cell_type": "code",
   "execution_count": 3,
   "metadata": {},
   "outputs": [],
   "source": [
    "import numpy as np\n",
    "import pandas as pd\n",
    "from scipy.stats import t\n",
    "pd.set_option('display.max_columns', 30) # set so can see all columns of the DataFrame"
   ]
  },
  {
   "cell_type": "markdown",
   "metadata": {},
   "source": [
    "Your goal is to analyse data which is the result of a study that examined\n",
    "differences in a number of sleep variables between napping and non-napping toddlers. Some of these\n",
    "sleep variables included: Bedtime (lights-off time in decimalized time), Night Sleep Onset Time (in\n",
    "decimalized time), Wake Time (sleep end time in decimalized time), Night Sleep Duration (interval\n",
    "between sleep onset and sleep end in minutes), and Total 24-Hour Sleep Duration (in minutes). Note:\n",
    "[Decimalized time](https://en.wikipedia.org/wiki/Decimal_time) is the representation of the time of day using units which are decimally related.   \n",
    "\n",
    "\n",
    "The 20 study participants were healthy, normally developing toddlers with no sleep or behavioral\n",
    "problems. These children were categorized as napping or non-napping based upon parental report of\n",
    "children’s habitual sleep patterns. Researchers then verified napping status with data from actigraphy (a\n",
    "non-invasive method of monitoring human rest/activity cycles by wearing of a sensor on the wrist) and\n",
    "sleep diaries during the 5 days before the study assessments were made.\n",
    "\n",
    "\n",
    "You are specifically interested in the results for the Bedtime, Night Sleep Duration, and Total 24-\n",
    "Hour Sleep Duration. \n",
    "\n",
    "\n",
    "Reference: Akacem LD, Simpkin CT, Carskadon MA, Wright KP Jr, Jenni OG, Achermann P, et al. (2015) The Timing of the Circadian Clock and Sleep Differ between Napping and Non-Napping Toddlers. PLoS ONE 10(4): e0125181. https://doi.org/10.1371/journal.pone.0125181"
   ]
  },
  {
   "cell_type": "code",
   "execution_count": 4,
   "metadata": {},
   "outputs": [],
   "source": [
    "df = pd.read_excel('../nap-nonap/S1_Dataset.xlsx')"
   ]
  },
  {
   "cell_type": "code",
   "execution_count": 5,
   "metadata": {},
   "outputs": [
    {
     "data": {
      "text/html": [
       "<div>\n",
       "<style scoped>\n",
       "    .dataframe tbody tr th:only-of-type {\n",
       "        vertical-align: middle;\n",
       "    }\n",
       "\n",
       "    .dataframe tbody tr th {\n",
       "        vertical-align: top;\n",
       "    }\n",
       "\n",
       "    .dataframe thead th {\n",
       "        text-align: right;\n",
       "    }\n",
       "</style>\n",
       "<table border=\"1\" class=\"dataframe\">\n",
       "  <thead>\n",
       "    <tr style=\"text-align: right;\">\n",
       "      <th></th>\n",
       "      <th>id</th>\n",
       "      <th>sex</th>\n",
       "      <th>age (months)</th>\n",
       "      <th>dlmo time</th>\n",
       "      <th>days napped</th>\n",
       "      <th>napping</th>\n",
       "      <th>nap lights outl time</th>\n",
       "      <th>nap sleep onset</th>\n",
       "      <th>nap midsleep</th>\n",
       "      <th>nap sleep offset</th>\n",
       "      <th>nap wake time</th>\n",
       "      <th>nap duration</th>\n",
       "      <th>nap time in bed</th>\n",
       "      <th>night bedtime</th>\n",
       "      <th>night sleep onset</th>\n",
       "      <th>sleep onset latency</th>\n",
       "      <th>night midsleep time</th>\n",
       "      <th>night wake time</th>\n",
       "      <th>night sleep duration</th>\n",
       "      <th>night time in bed</th>\n",
       "      <th>24 h sleep duration</th>\n",
       "      <th>bedtime phase difference</th>\n",
       "      <th>sleep onset phase difference</th>\n",
       "      <th>midsleep phase difference</th>\n",
       "      <th>wake time phase difference</th>\n",
       "    </tr>\n",
       "  </thead>\n",
       "  <tbody>\n",
       "    <tr>\n",
       "      <th>0</th>\n",
       "      <td>1</td>\n",
       "      <td>female</td>\n",
       "      <td>33.7</td>\n",
       "      <td>19.24</td>\n",
       "      <td>0.0</td>\n",
       "      <td>0.0</td>\n",
       "      <td>NaN</td>\n",
       "      <td>NaN</td>\n",
       "      <td>NaN</td>\n",
       "      <td>NaN</td>\n",
       "      <td>NaN</td>\n",
       "      <td>NaN</td>\n",
       "      <td>NaN</td>\n",
       "      <td>20.45</td>\n",
       "      <td>20.68</td>\n",
       "      <td>0.23</td>\n",
       "      <td>1.92</td>\n",
       "      <td>7.17</td>\n",
       "      <td>629.40</td>\n",
       "      <td>643.00</td>\n",
       "      <td>629.40</td>\n",
       "      <td>-1.21</td>\n",
       "      <td>-1.44</td>\n",
       "      <td>6.68</td>\n",
       "      <td>11.93</td>\n",
       "    </tr>\n",
       "    <tr>\n",
       "      <th>1</th>\n",
       "      <td>2</td>\n",
       "      <td>female</td>\n",
       "      <td>31.5</td>\n",
       "      <td>18.27</td>\n",
       "      <td>0.0</td>\n",
       "      <td>0.0</td>\n",
       "      <td>NaN</td>\n",
       "      <td>NaN</td>\n",
       "      <td>NaN</td>\n",
       "      <td>NaN</td>\n",
       "      <td>NaN</td>\n",
       "      <td>NaN</td>\n",
       "      <td>NaN</td>\n",
       "      <td>19.23</td>\n",
       "      <td>19.48</td>\n",
       "      <td>0.25</td>\n",
       "      <td>1.09</td>\n",
       "      <td>6.69</td>\n",
       "      <td>672.40</td>\n",
       "      <td>700.40</td>\n",
       "      <td>672.40</td>\n",
       "      <td>-0.96</td>\n",
       "      <td>-1.21</td>\n",
       "      <td>6.82</td>\n",
       "      <td>12.42</td>\n",
       "    </tr>\n",
       "    <tr>\n",
       "      <th>2</th>\n",
       "      <td>3</td>\n",
       "      <td>male</td>\n",
       "      <td>31.9</td>\n",
       "      <td>19.14</td>\n",
       "      <td>0.0</td>\n",
       "      <td>0.0</td>\n",
       "      <td>NaN</td>\n",
       "      <td>NaN</td>\n",
       "      <td>NaN</td>\n",
       "      <td>NaN</td>\n",
       "      <td>NaN</td>\n",
       "      <td>NaN</td>\n",
       "      <td>NaN</td>\n",
       "      <td>19.60</td>\n",
       "      <td>20.05</td>\n",
       "      <td>0.45</td>\n",
       "      <td>1.29</td>\n",
       "      <td>6.53</td>\n",
       "      <td>628.80</td>\n",
       "      <td>682.60</td>\n",
       "      <td>628.80</td>\n",
       "      <td>-0.46</td>\n",
       "      <td>-0.91</td>\n",
       "      <td>6.15</td>\n",
       "      <td>11.39</td>\n",
       "    </tr>\n",
       "    <tr>\n",
       "      <th>3</th>\n",
       "      <td>4</td>\n",
       "      <td>female</td>\n",
       "      <td>31.6</td>\n",
       "      <td>19.69</td>\n",
       "      <td>0.0</td>\n",
       "      <td>0.0</td>\n",
       "      <td>NaN</td>\n",
       "      <td>NaN</td>\n",
       "      <td>NaN</td>\n",
       "      <td>NaN</td>\n",
       "      <td>NaN</td>\n",
       "      <td>NaN</td>\n",
       "      <td>NaN</td>\n",
       "      <td>19.46</td>\n",
       "      <td>19.50</td>\n",
       "      <td>0.05</td>\n",
       "      <td>1.89</td>\n",
       "      <td>8.28</td>\n",
       "      <td>766.60</td>\n",
       "      <td>784.00</td>\n",
       "      <td>766.60</td>\n",
       "      <td>0.23</td>\n",
       "      <td>0.19</td>\n",
       "      <td>6.20</td>\n",
       "      <td>12.59</td>\n",
       "    </tr>\n",
       "    <tr>\n",
       "      <th>4</th>\n",
       "      <td>5</td>\n",
       "      <td>female</td>\n",
       "      <td>33.0</td>\n",
       "      <td>19.52</td>\n",
       "      <td>0.0</td>\n",
       "      <td>0.0</td>\n",
       "      <td>NaN</td>\n",
       "      <td>NaN</td>\n",
       "      <td>NaN</td>\n",
       "      <td>NaN</td>\n",
       "      <td>NaN</td>\n",
       "      <td>NaN</td>\n",
       "      <td>NaN</td>\n",
       "      <td>19.21</td>\n",
       "      <td>19.65</td>\n",
       "      <td>0.45</td>\n",
       "      <td>1.30</td>\n",
       "      <td>6.95</td>\n",
       "      <td>678.00</td>\n",
       "      <td>718.00</td>\n",
       "      <td>678.00</td>\n",
       "      <td>0.31</td>\n",
       "      <td>-0.13</td>\n",
       "      <td>5.78</td>\n",
       "      <td>11.43</td>\n",
       "    </tr>\n",
       "    <tr>\n",
       "      <th>5</th>\n",
       "      <td>6</td>\n",
       "      <td>female</td>\n",
       "      <td>36.2</td>\n",
       "      <td>18.22</td>\n",
       "      <td>4.0</td>\n",
       "      <td>1.0</td>\n",
       "      <td>14.00</td>\n",
       "      <td>14.22</td>\n",
       "      <td>15.00</td>\n",
       "      <td>15.78</td>\n",
       "      <td>16.28</td>\n",
       "      <td>93.75</td>\n",
       "      <td>137.00</td>\n",
       "      <td>19.95</td>\n",
       "      <td>20.25</td>\n",
       "      <td>0.29</td>\n",
       "      <td>1.26</td>\n",
       "      <td>6.28</td>\n",
       "      <td>602.20</td>\n",
       "      <td>653.80</td>\n",
       "      <td>695.95</td>\n",
       "      <td>-1.73</td>\n",
       "      <td>-2.03</td>\n",
       "      <td>7.05</td>\n",
       "      <td>12.06</td>\n",
       "    </tr>\n",
       "    <tr>\n",
       "      <th>6</th>\n",
       "      <td>7</td>\n",
       "      <td>male</td>\n",
       "      <td>36.3</td>\n",
       "      <td>19.28</td>\n",
       "      <td>1.0</td>\n",
       "      <td>1.0</td>\n",
       "      <td>14.75</td>\n",
       "      <td>15.03</td>\n",
       "      <td>15.92</td>\n",
       "      <td>16.80</td>\n",
       "      <td>16.08</td>\n",
       "      <td>106.00</td>\n",
       "      <td>80.00</td>\n",
       "      <td>20.60</td>\n",
       "      <td>20.96</td>\n",
       "      <td>0.36</td>\n",
       "      <td>2.12</td>\n",
       "      <td>7.27</td>\n",
       "      <td>618.40</td>\n",
       "      <td>655.40</td>\n",
       "      <td>724.40</td>\n",
       "      <td>-1.32</td>\n",
       "      <td>-1.68</td>\n",
       "      <td>6.84</td>\n",
       "      <td>11.99</td>\n",
       "    </tr>\n",
       "    <tr>\n",
       "      <th>7</th>\n",
       "      <td>8</td>\n",
       "      <td>male</td>\n",
       "      <td>30.0</td>\n",
       "      <td>21.06</td>\n",
       "      <td>5.0</td>\n",
       "      <td>1.0</td>\n",
       "      <td>13.09</td>\n",
       "      <td>13.43</td>\n",
       "      <td>14.44</td>\n",
       "      <td>15.46</td>\n",
       "      <td>15.82</td>\n",
       "      <td>121.60</td>\n",
       "      <td>163.80</td>\n",
       "      <td>22.01</td>\n",
       "      <td>22.53</td>\n",
       "      <td>0.51</td>\n",
       "      <td>2.92</td>\n",
       "      <td>7.31</td>\n",
       "      <td>526.80</td>\n",
       "      <td>582.40</td>\n",
       "      <td>648.40</td>\n",
       "      <td>-0.95</td>\n",
       "      <td>-1.47</td>\n",
       "      <td>5.86</td>\n",
       "      <td>10.25</td>\n",
       "    </tr>\n",
       "    <tr>\n",
       "      <th>8</th>\n",
       "      <td>9</td>\n",
       "      <td>male</td>\n",
       "      <td>33.2</td>\n",
       "      <td>19.38</td>\n",
       "      <td>2.0</td>\n",
       "      <td>1.0</td>\n",
       "      <td>14.41</td>\n",
       "      <td>14.42</td>\n",
       "      <td>15.71</td>\n",
       "      <td>17.01</td>\n",
       "      <td>16.60</td>\n",
       "      <td>155.50</td>\n",
       "      <td>131.25</td>\n",
       "      <td>20.24</td>\n",
       "      <td>20.37</td>\n",
       "      <td>0.13</td>\n",
       "      <td>1.60</td>\n",
       "      <td>6.82</td>\n",
       "      <td>626.80</td>\n",
       "      <td>660.33</td>\n",
       "      <td>782.30</td>\n",
       "      <td>-0.86</td>\n",
       "      <td>-0.99</td>\n",
       "      <td>6.22</td>\n",
       "      <td>11.44</td>\n",
       "    </tr>\n",
       "    <tr>\n",
       "      <th>9</th>\n",
       "      <td>10</td>\n",
       "      <td>female</td>\n",
       "      <td>37.1</td>\n",
       "      <td>19.93</td>\n",
       "      <td>3.0</td>\n",
       "      <td>1.0</td>\n",
       "      <td>13.12</td>\n",
       "      <td>13.42</td>\n",
       "      <td>14.31</td>\n",
       "      <td>15.19</td>\n",
       "      <td>15.30</td>\n",
       "      <td>106.67</td>\n",
       "      <td>130.67</td>\n",
       "      <td>20.78</td>\n",
       "      <td>21.63</td>\n",
       "      <td>0.84</td>\n",
       "      <td>2.20</td>\n",
       "      <td>6.52</td>\n",
       "      <td>549.50</td>\n",
       "      <td>626.00</td>\n",
       "      <td>656.17</td>\n",
       "      <td>-0.76</td>\n",
       "      <td>-1.82</td>\n",
       "      <td>6.21</td>\n",
       "      <td>10.59</td>\n",
       "    </tr>\n",
       "    <tr>\n",
       "      <th>10</th>\n",
       "      <td>11</td>\n",
       "      <td>male</td>\n",
       "      <td>32.9</td>\n",
       "      <td>18.79</td>\n",
       "      <td>4.0</td>\n",
       "      <td>1.0</td>\n",
       "      <td>13.99</td>\n",
       "      <td>14.03</td>\n",
       "      <td>14.85</td>\n",
       "      <td>15.68</td>\n",
       "      <td>16.10</td>\n",
       "      <td>98.75</td>\n",
       "      <td>126.60</td>\n",
       "      <td>19.45</td>\n",
       "      <td>19.88</td>\n",
       "      <td>0.44</td>\n",
       "      <td>1.34</td>\n",
       "      <td>6.80</td>\n",
       "      <td>655.20</td>\n",
       "      <td>694.80</td>\n",
       "      <td>753.95</td>\n",
       "      <td>-0.66</td>\n",
       "      <td>-1.09</td>\n",
       "      <td>6.55</td>\n",
       "      <td>12.01</td>\n",
       "    </tr>\n",
       "    <tr>\n",
       "      <th>11</th>\n",
       "      <td>12</td>\n",
       "      <td>female</td>\n",
       "      <td>35.0</td>\n",
       "      <td>19.65</td>\n",
       "      <td>5.0</td>\n",
       "      <td>1.0</td>\n",
       "      <td>13.18</td>\n",
       "      <td>13.45</td>\n",
       "      <td>14.33</td>\n",
       "      <td>15.21</td>\n",
       "      <td>15.35</td>\n",
       "      <td>105.80</td>\n",
       "      <td>130.40</td>\n",
       "      <td>20.18</td>\n",
       "      <td>20.84</td>\n",
       "      <td>0.66</td>\n",
       "      <td>1.93</td>\n",
       "      <td>7.03</td>\n",
       "      <td>611.20</td>\n",
       "      <td>660.40</td>\n",
       "      <td>717.00</td>\n",
       "      <td>-0.53</td>\n",
       "      <td>-1.19</td>\n",
       "      <td>6.28</td>\n",
       "      <td>11.38</td>\n",
       "    </tr>\n",
       "    <tr>\n",
       "      <th>12</th>\n",
       "      <td>13</td>\n",
       "      <td>male</td>\n",
       "      <td>35.1</td>\n",
       "      <td>19.83</td>\n",
       "      <td>3.0</td>\n",
       "      <td>1.0</td>\n",
       "      <td>13.94</td>\n",
       "      <td>14.48</td>\n",
       "      <td>15.26</td>\n",
       "      <td>16.03</td>\n",
       "      <td>15.78</td>\n",
       "      <td>93.33</td>\n",
       "      <td>110.20</td>\n",
       "      <td>20.22</td>\n",
       "      <td>20.89</td>\n",
       "      <td>0.67</td>\n",
       "      <td>1.99</td>\n",
       "      <td>7.09</td>\n",
       "      <td>611.80</td>\n",
       "      <td>662.20</td>\n",
       "      <td>705.13</td>\n",
       "      <td>-0.39</td>\n",
       "      <td>-1.06</td>\n",
       "      <td>6.16</td>\n",
       "      <td>11.26</td>\n",
       "    </tr>\n",
       "    <tr>\n",
       "      <th>13</th>\n",
       "      <td>14</td>\n",
       "      <td>female</td>\n",
       "      <td>35.6</td>\n",
       "      <td>19.88</td>\n",
       "      <td>4.0</td>\n",
       "      <td>1.0</td>\n",
       "      <td>12.68</td>\n",
       "      <td>13.08</td>\n",
       "      <td>13.92</td>\n",
       "      <td>14.76</td>\n",
       "      <td>15.00</td>\n",
       "      <td>100.75</td>\n",
       "      <td>139.33</td>\n",
       "      <td>20.26</td>\n",
       "      <td>20.80</td>\n",
       "      <td>0.54</td>\n",
       "      <td>1.96</td>\n",
       "      <td>7.11</td>\n",
       "      <td>618.80</td>\n",
       "      <td>671.20</td>\n",
       "      <td>719.55</td>\n",
       "      <td>-0.38</td>\n",
       "      <td>-0.92</td>\n",
       "      <td>6.08</td>\n",
       "      <td>11.23</td>\n",
       "    </tr>\n",
       "    <tr>\n",
       "      <th>14</th>\n",
       "      <td>15</td>\n",
       "      <td>female</td>\n",
       "      <td>36.6</td>\n",
       "      <td>19.94</td>\n",
       "      <td>4.0</td>\n",
       "      <td>1.0</td>\n",
       "      <td>12.71</td>\n",
       "      <td>12.88</td>\n",
       "      <td>13.80</td>\n",
       "      <td>14.72</td>\n",
       "      <td>14.88</td>\n",
       "      <td>110.75</td>\n",
       "      <td>130.00</td>\n",
       "      <td>20.28</td>\n",
       "      <td>20.92</td>\n",
       "      <td>0.64</td>\n",
       "      <td>1.49</td>\n",
       "      <td>6.33</td>\n",
       "      <td>548.00</td>\n",
       "      <td>595.00</td>\n",
       "      <td>658.75</td>\n",
       "      <td>-0.34</td>\n",
       "      <td>-0.90</td>\n",
       "      <td>5.64</td>\n",
       "      <td>10.39</td>\n",
       "    </tr>\n",
       "    <tr>\n",
       "      <th>15</th>\n",
       "      <td>16</td>\n",
       "      <td>male</td>\n",
       "      <td>36.5</td>\n",
       "      <td>20.25</td>\n",
       "      <td>3.0</td>\n",
       "      <td>1.0</td>\n",
       "      <td>13.74</td>\n",
       "      <td>14.68</td>\n",
       "      <td>15.66</td>\n",
       "      <td>16.64</td>\n",
       "      <td>16.45</td>\n",
       "      <td>117.33</td>\n",
       "      <td>162.75</td>\n",
       "      <td>20.46</td>\n",
       "      <td>21.25</td>\n",
       "      <td>0.79</td>\n",
       "      <td>2.19</td>\n",
       "      <td>7.13</td>\n",
       "      <td>593.25</td>\n",
       "      <td>662.00</td>\n",
       "      <td>710.58</td>\n",
       "      <td>-0.21</td>\n",
       "      <td>-1.00</td>\n",
       "      <td>5.94</td>\n",
       "      <td>10.88</td>\n",
       "    </tr>\n",
       "    <tr>\n",
       "      <th>16</th>\n",
       "      <td>17</td>\n",
       "      <td>female</td>\n",
       "      <td>33.7</td>\n",
       "      <td>20.33</td>\n",
       "      <td>5.0</td>\n",
       "      <td>1.0</td>\n",
       "      <td>13.15</td>\n",
       "      <td>13.87</td>\n",
       "      <td>14.49</td>\n",
       "      <td>15.11</td>\n",
       "      <td>15.40</td>\n",
       "      <td>74.20</td>\n",
       "      <td>135.00</td>\n",
       "      <td>20.43</td>\n",
       "      <td>21.03</td>\n",
       "      <td>0.60</td>\n",
       "      <td>2.44</td>\n",
       "      <td>7.86</td>\n",
       "      <td>649.80</td>\n",
       "      <td>708.60</td>\n",
       "      <td>724.00</td>\n",
       "      <td>-0.10</td>\n",
       "      <td>-0.70</td>\n",
       "      <td>6.12</td>\n",
       "      <td>11.53</td>\n",
       "    </tr>\n",
       "    <tr>\n",
       "      <th>17</th>\n",
       "      <td>18</td>\n",
       "      <td>male</td>\n",
       "      <td>36.4</td>\n",
       "      <td>20.16</td>\n",
       "      <td>5.0</td>\n",
       "      <td>1.0</td>\n",
       "      <td>12.47</td>\n",
       "      <td>12.56</td>\n",
       "      <td>13.30</td>\n",
       "      <td>14.05</td>\n",
       "      <td>14.25</td>\n",
       "      <td>89.80</td>\n",
       "      <td>107.00</td>\n",
       "      <td>20.02</td>\n",
       "      <td>20.45</td>\n",
       "      <td>0.43</td>\n",
       "      <td>1.23</td>\n",
       "      <td>6.01</td>\n",
       "      <td>573.60</td>\n",
       "      <td>614.60</td>\n",
       "      <td>663.40</td>\n",
       "      <td>0.14</td>\n",
       "      <td>-0.29</td>\n",
       "      <td>5.07</td>\n",
       "      <td>9.85</td>\n",
       "    </tr>\n",
       "    <tr>\n",
       "      <th>18</th>\n",
       "      <td>19</td>\n",
       "      <td>female</td>\n",
       "      <td>33.6</td>\n",
       "      <td>19.68</td>\n",
       "      <td>3.0</td>\n",
       "      <td>1.0</td>\n",
       "      <td>14.71</td>\n",
       "      <td>14.85</td>\n",
       "      <td>15.46</td>\n",
       "      <td>16.07</td>\n",
       "      <td>16.20</td>\n",
       "      <td>73.00</td>\n",
       "      <td>89.40</td>\n",
       "      <td>19.50</td>\n",
       "      <td>19.64</td>\n",
       "      <td>0.14</td>\n",
       "      <td>1.42</td>\n",
       "      <td>7.20</td>\n",
       "      <td>693.40</td>\n",
       "      <td>715.00</td>\n",
       "      <td>766.40</td>\n",
       "      <td>0.18</td>\n",
       "      <td>0.04</td>\n",
       "      <td>5.74</td>\n",
       "      <td>11.52</td>\n",
       "    </tr>\n",
       "    <tr>\n",
       "      <th>19</th>\n",
       "      <td>20</td>\n",
       "      <td>male</td>\n",
       "      <td>33.8</td>\n",
       "      <td>20.51</td>\n",
       "      <td>3.0</td>\n",
       "      <td>1.0</td>\n",
       "      <td>12.68</td>\n",
       "      <td>13.54</td>\n",
       "      <td>14.30</td>\n",
       "      <td>15.07</td>\n",
       "      <td>15.23</td>\n",
       "      <td>91.67</td>\n",
       "      <td>152.67</td>\n",
       "      <td>20.18</td>\n",
       "      <td>21.38</td>\n",
       "      <td>1.19</td>\n",
       "      <td>2.51</td>\n",
       "      <td>7.63</td>\n",
       "      <td>615.33</td>\n",
       "      <td>692.00</td>\n",
       "      <td>707.00</td>\n",
       "      <td>0.33</td>\n",
       "      <td>-0.87</td>\n",
       "      <td>6.00</td>\n",
       "      <td>11.12</td>\n",
       "    </tr>\n",
       "    <tr>\n",
       "      <th>20</th>\n",
       "      <td>NaN</td>\n",
       "      <td>NaN</td>\n",
       "      <td>NaN</td>\n",
       "      <td>NaN</td>\n",
       "      <td>NaN</td>\n",
       "      <td>NaN</td>\n",
       "      <td>NaN</td>\n",
       "      <td>NaN</td>\n",
       "      <td>NaN</td>\n",
       "      <td>NaN</td>\n",
       "      <td>NaN</td>\n",
       "      <td>NaN</td>\n",
       "      <td>NaN</td>\n",
       "      <td>NaN</td>\n",
       "      <td>NaN</td>\n",
       "      <td>NaN</td>\n",
       "      <td>NaN</td>\n",
       "      <td>NaN</td>\n",
       "      <td>NaN</td>\n",
       "      <td>NaN</td>\n",
       "      <td>NaN</td>\n",
       "      <td>NaN</td>\n",
       "      <td>NaN</td>\n",
       "      <td>NaN</td>\n",
       "      <td>NaN</td>\n",
       "    </tr>\n",
       "    <tr>\n",
       "      <th>21</th>\n",
       "      <td>0 = no; 1 = yes</td>\n",
       "      <td>NaN</td>\n",
       "      <td>NaN</td>\n",
       "      <td>NaN</td>\n",
       "      <td>NaN</td>\n",
       "      <td>NaN</td>\n",
       "      <td>NaN</td>\n",
       "      <td>NaN</td>\n",
       "      <td>NaN</td>\n",
       "      <td>NaN</td>\n",
       "      <td>NaN</td>\n",
       "      <td>NaN</td>\n",
       "      <td>NaN</td>\n",
       "      <td>NaN</td>\n",
       "      <td>NaN</td>\n",
       "      <td>NaN</td>\n",
       "      <td>NaN</td>\n",
       "      <td>NaN</td>\n",
       "      <td>NaN</td>\n",
       "      <td>NaN</td>\n",
       "      <td>NaN</td>\n",
       "      <td>NaN</td>\n",
       "      <td>NaN</td>\n",
       "      <td>NaN</td>\n",
       "      <td>NaN</td>\n",
       "    </tr>\n",
       "    <tr>\n",
       "      <th>22</th>\n",
       "      <td>all times are decimal values</td>\n",
       "      <td>NaN</td>\n",
       "      <td>NaN</td>\n",
       "      <td>NaN</td>\n",
       "      <td>NaN</td>\n",
       "      <td>NaN</td>\n",
       "      <td>NaN</td>\n",
       "      <td>NaN</td>\n",
       "      <td>NaN</td>\n",
       "      <td>NaN</td>\n",
       "      <td>NaN</td>\n",
       "      <td>NaN</td>\n",
       "      <td>NaN</td>\n",
       "      <td>NaN</td>\n",
       "      <td>NaN</td>\n",
       "      <td>NaN</td>\n",
       "      <td>NaN</td>\n",
       "      <td>NaN</td>\n",
       "      <td>NaN</td>\n",
       "      <td>NaN</td>\n",
       "      <td>NaN</td>\n",
       "      <td>NaN</td>\n",
       "      <td>NaN</td>\n",
       "      <td>NaN</td>\n",
       "      <td>NaN</td>\n",
       "    </tr>\n",
       "  </tbody>\n",
       "</table>\n",
       "</div>"
      ],
      "text/plain": [
       "                              id     sex  age (months)  dlmo time  \\\n",
       "0                              1  female          33.7      19.24   \n",
       "1                              2  female          31.5      18.27   \n",
       "2                              3    male          31.9      19.14   \n",
       "3                              4  female          31.6      19.69   \n",
       "4                              5  female          33.0      19.52   \n",
       "5                              6  female          36.2      18.22   \n",
       "6                              7    male          36.3      19.28   \n",
       "7                              8    male          30.0      21.06   \n",
       "8                              9    male          33.2      19.38   \n",
       "9                             10  female          37.1      19.93   \n",
       "10                            11    male          32.9      18.79   \n",
       "11                            12  female          35.0      19.65   \n",
       "12                            13    male          35.1      19.83   \n",
       "13                            14  female          35.6      19.88   \n",
       "14                            15  female          36.6      19.94   \n",
       "15                            16    male          36.5      20.25   \n",
       "16                            17  female          33.7      20.33   \n",
       "17                            18    male          36.4      20.16   \n",
       "18                            19  female          33.6      19.68   \n",
       "19                            20    male          33.8      20.51   \n",
       "20                           NaN     NaN           NaN        NaN   \n",
       "21               0 = no; 1 = yes     NaN           NaN        NaN   \n",
       "22  all times are decimal values     NaN           NaN        NaN   \n",
       "\n",
       "    days napped  napping  nap lights outl time  nap sleep onset  nap midsleep  \\\n",
       "0           0.0      0.0                   NaN              NaN           NaN   \n",
       "1           0.0      0.0                   NaN              NaN           NaN   \n",
       "2           0.0      0.0                   NaN              NaN           NaN   \n",
       "3           0.0      0.0                   NaN              NaN           NaN   \n",
       "4           0.0      0.0                   NaN              NaN           NaN   \n",
       "5           4.0      1.0                 14.00            14.22         15.00   \n",
       "6           1.0      1.0                 14.75            15.03         15.92   \n",
       "7           5.0      1.0                 13.09            13.43         14.44   \n",
       "8           2.0      1.0                 14.41            14.42         15.71   \n",
       "9           3.0      1.0                 13.12            13.42         14.31   \n",
       "10          4.0      1.0                 13.99            14.03         14.85   \n",
       "11          5.0      1.0                 13.18            13.45         14.33   \n",
       "12          3.0      1.0                 13.94            14.48         15.26   \n",
       "13          4.0      1.0                 12.68            13.08         13.92   \n",
       "14          4.0      1.0                 12.71            12.88         13.80   \n",
       "15          3.0      1.0                 13.74            14.68         15.66   \n",
       "16          5.0      1.0                 13.15            13.87         14.49   \n",
       "17          5.0      1.0                 12.47            12.56         13.30   \n",
       "18          3.0      1.0                 14.71            14.85         15.46   \n",
       "19          3.0      1.0                 12.68            13.54         14.30   \n",
       "20          NaN      NaN                   NaN              NaN           NaN   \n",
       "21          NaN      NaN                   NaN              NaN           NaN   \n",
       "22          NaN      NaN                   NaN              NaN           NaN   \n",
       "\n",
       "    nap sleep offset  nap wake time  nap duration  nap time in bed  \\\n",
       "0                NaN            NaN           NaN              NaN   \n",
       "1                NaN            NaN           NaN              NaN   \n",
       "2                NaN            NaN           NaN              NaN   \n",
       "3                NaN            NaN           NaN              NaN   \n",
       "4                NaN            NaN           NaN              NaN   \n",
       "5              15.78          16.28         93.75           137.00   \n",
       "6              16.80          16.08        106.00            80.00   \n",
       "7              15.46          15.82        121.60           163.80   \n",
       "8              17.01          16.60        155.50           131.25   \n",
       "9              15.19          15.30        106.67           130.67   \n",
       "10             15.68          16.10         98.75           126.60   \n",
       "11             15.21          15.35        105.80           130.40   \n",
       "12             16.03          15.78         93.33           110.20   \n",
       "13             14.76          15.00        100.75           139.33   \n",
       "14             14.72          14.88        110.75           130.00   \n",
       "15             16.64          16.45        117.33           162.75   \n",
       "16             15.11          15.40         74.20           135.00   \n",
       "17             14.05          14.25         89.80           107.00   \n",
       "18             16.07          16.20         73.00            89.40   \n",
       "19             15.07          15.23         91.67           152.67   \n",
       "20               NaN            NaN           NaN              NaN   \n",
       "21               NaN            NaN           NaN              NaN   \n",
       "22               NaN            NaN           NaN              NaN   \n",
       "\n",
       "    night bedtime  night sleep onset  sleep onset latency  \\\n",
       "0           20.45              20.68                 0.23   \n",
       "1           19.23              19.48                 0.25   \n",
       "2           19.60              20.05                 0.45   \n",
       "3           19.46              19.50                 0.05   \n",
       "4           19.21              19.65                 0.45   \n",
       "5           19.95              20.25                 0.29   \n",
       "6           20.60              20.96                 0.36   \n",
       "7           22.01              22.53                 0.51   \n",
       "8           20.24              20.37                 0.13   \n",
       "9           20.78              21.63                 0.84   \n",
       "10          19.45              19.88                 0.44   \n",
       "11          20.18              20.84                 0.66   \n",
       "12          20.22              20.89                 0.67   \n",
       "13          20.26              20.80                 0.54   \n",
       "14          20.28              20.92                 0.64   \n",
       "15          20.46              21.25                 0.79   \n",
       "16          20.43              21.03                 0.60   \n",
       "17          20.02              20.45                 0.43   \n",
       "18          19.50              19.64                 0.14   \n",
       "19          20.18              21.38                 1.19   \n",
       "20            NaN                NaN                  NaN   \n",
       "21            NaN                NaN                  NaN   \n",
       "22            NaN                NaN                  NaN   \n",
       "\n",
       "    night midsleep time  night wake time  night sleep duration  \\\n",
       "0                  1.92             7.17                629.40   \n",
       "1                  1.09             6.69                672.40   \n",
       "2                  1.29             6.53                628.80   \n",
       "3                  1.89             8.28                766.60   \n",
       "4                  1.30             6.95                678.00   \n",
       "5                  1.26             6.28                602.20   \n",
       "6                  2.12             7.27                618.40   \n",
       "7                  2.92             7.31                526.80   \n",
       "8                  1.60             6.82                626.80   \n",
       "9                  2.20             6.52                549.50   \n",
       "10                 1.34             6.80                655.20   \n",
       "11                 1.93             7.03                611.20   \n",
       "12                 1.99             7.09                611.80   \n",
       "13                 1.96             7.11                618.80   \n",
       "14                 1.49             6.33                548.00   \n",
       "15                 2.19             7.13                593.25   \n",
       "16                 2.44             7.86                649.80   \n",
       "17                 1.23             6.01                573.60   \n",
       "18                 1.42             7.20                693.40   \n",
       "19                 2.51             7.63                615.33   \n",
       "20                  NaN              NaN                   NaN   \n",
       "21                  NaN              NaN                   NaN   \n",
       "22                  NaN              NaN                   NaN   \n",
       "\n",
       "    night time in bed  24 h sleep duration  bedtime phase difference  \\\n",
       "0              643.00               629.40                     -1.21   \n",
       "1              700.40               672.40                     -0.96   \n",
       "2              682.60               628.80                     -0.46   \n",
       "3              784.00               766.60                      0.23   \n",
       "4              718.00               678.00                      0.31   \n",
       "5              653.80               695.95                     -1.73   \n",
       "6              655.40               724.40                     -1.32   \n",
       "7              582.40               648.40                     -0.95   \n",
       "8              660.33               782.30                     -0.86   \n",
       "9              626.00               656.17                     -0.76   \n",
       "10             694.80               753.95                     -0.66   \n",
       "11             660.40               717.00                     -0.53   \n",
       "12             662.20               705.13                     -0.39   \n",
       "13             671.20               719.55                     -0.38   \n",
       "14             595.00               658.75                     -0.34   \n",
       "15             662.00               710.58                     -0.21   \n",
       "16             708.60               724.00                     -0.10   \n",
       "17             614.60               663.40                      0.14   \n",
       "18             715.00               766.40                      0.18   \n",
       "19             692.00               707.00                      0.33   \n",
       "20                NaN                  NaN                       NaN   \n",
       "21                NaN                  NaN                       NaN   \n",
       "22                NaN                  NaN                       NaN   \n",
       "\n",
       "    sleep onset phase difference  midsleep phase difference  \\\n",
       "0                          -1.44                       6.68   \n",
       "1                          -1.21                       6.82   \n",
       "2                          -0.91                       6.15   \n",
       "3                           0.19                       6.20   \n",
       "4                          -0.13                       5.78   \n",
       "5                          -2.03                       7.05   \n",
       "6                          -1.68                       6.84   \n",
       "7                          -1.47                       5.86   \n",
       "8                          -0.99                       6.22   \n",
       "9                          -1.82                       6.21   \n",
       "10                         -1.09                       6.55   \n",
       "11                         -1.19                       6.28   \n",
       "12                         -1.06                       6.16   \n",
       "13                         -0.92                       6.08   \n",
       "14                         -0.90                       5.64   \n",
       "15                         -1.00                       5.94   \n",
       "16                         -0.70                       6.12   \n",
       "17                         -0.29                       5.07   \n",
       "18                          0.04                       5.74   \n",
       "19                         -0.87                       6.00   \n",
       "20                           NaN                        NaN   \n",
       "21                           NaN                        NaN   \n",
       "22                           NaN                        NaN   \n",
       "\n",
       "    wake time phase difference  \n",
       "0                        11.93  \n",
       "1                        12.42  \n",
       "2                        11.39  \n",
       "3                        12.59  \n",
       "4                        11.43  \n",
       "5                        12.06  \n",
       "6                        11.99  \n",
       "7                        10.25  \n",
       "8                        11.44  \n",
       "9                        10.59  \n",
       "10                       12.01  \n",
       "11                       11.38  \n",
       "12                       11.26  \n",
       "13                       11.23  \n",
       "14                       10.39  \n",
       "15                       10.88  \n",
       "16                       11.53  \n",
       "17                        9.85  \n",
       "18                       11.52  \n",
       "19                       11.12  \n",
       "20                         NaN  \n",
       "21                         NaN  \n",
       "22                         NaN  "
      ]
     },
     "execution_count": 5,
     "metadata": {},
     "output_type": "execute_result"
    }
   ],
   "source": [
    "df"
   ]
  },
  {
   "cell_type": "code",
   "execution_count": 6,
   "metadata": {},
   "outputs": [
    {
     "name": "stdout",
     "output_type": "stream",
     "text": [
      "<class 'pandas.core.frame.DataFrame'>\n",
      "RangeIndex: 23 entries, 0 to 22\n",
      "Data columns (total 25 columns):\n",
      " #   Column                        Non-Null Count  Dtype  \n",
      "---  ------                        --------------  -----  \n",
      " 0   id                            22 non-null     object \n",
      " 1   sex                           20 non-null     object \n",
      " 2   age (months)                  20 non-null     float64\n",
      " 3   dlmo time                     20 non-null     float64\n",
      " 4   days napped                   20 non-null     float64\n",
      " 5   napping                       20 non-null     float64\n",
      " 6   nap lights outl time          15 non-null     float64\n",
      " 7   nap sleep onset               15 non-null     float64\n",
      " 8   nap midsleep                  15 non-null     float64\n",
      " 9   nap sleep offset              15 non-null     float64\n",
      " 10  nap wake time                 15 non-null     float64\n",
      " 11  nap duration                  15 non-null     float64\n",
      " 12  nap time in bed               15 non-null     float64\n",
      " 13  night bedtime                 20 non-null     float64\n",
      " 14  night sleep onset             20 non-null     float64\n",
      " 15  sleep onset latency           20 non-null     float64\n",
      " 16  night midsleep time           20 non-null     float64\n",
      " 17  night wake time               20 non-null     float64\n",
      " 18  night sleep duration          20 non-null     float64\n",
      " 19  night time in bed             20 non-null     float64\n",
      " 20  24 h sleep duration           20 non-null     float64\n",
      " 21  bedtime phase difference      20 non-null     float64\n",
      " 22  sleep onset phase difference  20 non-null     float64\n",
      " 23  midsleep phase difference     20 non-null     float64\n",
      " 24  wake time phase difference    20 non-null     float64\n",
      "dtypes: float64(23), object(2)\n",
      "memory usage: 4.4+ KB\n"
     ]
    }
   ],
   "source": [
    "df.info()"
   ]
  },
  {
   "cell_type": "markdown",
   "metadata": {},
   "source": [
    "**Question**: What variable is used in the column 'napping' to indicate a toddler takes a nap? <br>\n",
    "1\n",
    "\n",
    "**Question**: What is the sample size $n$? <br>\n",
    "20"
   ]
  },
  {
   "cell_type": "markdown",
   "metadata": {},
   "source": [
    "## Hypothesis testing\n",
    "We will look at two hypothesis test, each with $\\alpha = .025$:  \n",
    "\n",
    "\n",
    "1. Is the average bedtime for toddlers who nap later than the average bedtime for toddlers who don't nap?\n",
    "\n",
    "\n",
    "$$H_0: \\mu_{nap}=\\mu_{no\\ nap}, \\ H_a:\\mu_{nap}>\\mu_{no\\ nap}$$\n",
    "Or equivalently:\n",
    "$$H_0: \\mu_{nap}-\\mu_{no\\ nap}=0, \\ H_a:\\mu_{nap}-\\mu_{no\\ nap}>0$$\n",
    "\n",
    "\n",
    "2. The average 24 h sleep duration (in minutes) for napping toddlers is different from toddlers who don't nap.\n",
    "\n",
    "\n",
    "$$H_0: \\mu_{nap}=\\mu_{no\\ nap}, \\ H_a:\\mu_{nap}\\neq\\mu_{no\\ nap}$$\n",
    "Or equivalenty:\n",
    "$$H_0: \\mu_{nap}-\\mu_{no\\ nap}=0, \\ H_a:\\mu_{nap}-\\mu_{no\\ nap} \\neq 0$$\n",
    "\n",
    "Aside: This $\\alpha$ level is equivalent to $\\alpha = .05$ and then applying the [Bonferonni correction](https://en.wikipedia.org/wiki/Bonferroni_correction)."
   ]
  },
  {
   "cell_type": "markdown",
   "metadata": {},
   "source": [
    "Before any analysis, we will convert 'night bedtime' into decimalized time. "
   ]
  },
  {
   "cell_type": "code",
   "execution_count": 7,
   "metadata": {},
   "outputs": [],
   "source": [
    "# Convert 'night bedtime' into decimalized time\n",
    "df.loc[:,'night bedtime'] = np.floor(df['night bedtime'])*60 + np.round(df['night bedtime']%1,2 )*100"
   ]
  },
  {
   "cell_type": "markdown",
   "metadata": {},
   "source": [
    "Now, isolate the column 'night bedtime' for those who nap into a new variable, and those who didn't nap into another new variable. "
   ]
  },
  {
   "cell_type": "code",
   "execution_count": 8,
   "metadata": {},
   "outputs": [],
   "source": [
    "nap_bedtime = df.loc[ df['napping'] == 1, 'night bedtime']\n"
   ]
  },
  {
   "cell_type": "code",
   "execution_count": 9,
   "metadata": {},
   "outputs": [],
   "source": [
    "no_nap_bedtime = df.loc[ df['napping'] == 0, 'night bedtime']"
   ]
  },
  {
   "cell_type": "markdown",
   "metadata": {},
   "source": [
    "Now find the sample mean bedtime for nap and no_nap."
   ]
  },
  {
   "cell_type": "code",
   "execution_count": 10,
   "metadata": {},
   "outputs": [
    {
     "data": {
      "text/plain": [
       "1233.0666666666666"
      ]
     },
     "execution_count": 10,
     "metadata": {},
     "output_type": "execute_result"
    }
   ],
   "source": [
    "nap_mean_bedtime = nap_bedtime.mean()\n",
    "nap_mean_bedtime"
   ]
  },
  {
   "cell_type": "code",
   "execution_count": 11,
   "metadata": {},
   "outputs": [
    {
     "data": {
      "text/plain": [
       "1191.0"
      ]
     },
     "execution_count": 11,
     "metadata": {},
     "output_type": "execute_result"
    }
   ],
   "source": [
    "no_nap_mean_bedtime = no_nap_bedtime.mean()\n",
    "no_nap_mean_bedtime"
   ]
  },
  {
   "cell_type": "code",
   "execution_count": 12,
   "metadata": {},
   "outputs": [
    {
     "data": {
      "text/plain": [
       "42.066666666666606"
      ]
     },
     "execution_count": 12,
     "metadata": {},
     "output_type": "execute_result"
    }
   ],
   "source": [
    "nap_mean_bedtime - no_nap_mean_bedtime"
   ]
  },
  {
   "cell_type": "markdown",
   "metadata": {},
   "source": [
    "**Question**: What is the sample difference of mean bedtime for nappers minus no nappers? <br>\n",
    "Now find the sample standard deviation for $X_{nap}$ and $X_{no\\ nap}$."
   ]
  },
  {
   "cell_type": "code",
   "execution_count": 13,
   "metadata": {},
   "outputs": [
    {
     "data": {
      "text/plain": [
       "34.445540177143954"
      ]
     },
     "execution_count": 13,
     "metadata": {},
     "output_type": "execute_result"
    }
   ],
   "source": [
    "nap_s_bedtime = nap_bedtime.std()\n",
    "nap_s_bedtime"
   ]
  },
  {
   "cell_type": "code",
   "execution_count": 15,
   "metadata": {},
   "outputs": [
    {
     "data": {
      "text/plain": [
       "1186.4952380952384"
      ]
     },
     "execution_count": 15,
     "metadata": {},
     "output_type": "execute_result"
    }
   ],
   "source": [
    "s12 = nap_s_bedtime**2\n",
    "s12"
   ]
  },
  {
   "cell_type": "code",
   "execution_count": 14,
   "metadata": {},
   "outputs": [
    {
     "data": {
      "text/plain": [
       "34.30014577228499"
      ]
     },
     "execution_count": 14,
     "metadata": {},
     "output_type": "execute_result"
    }
   ],
   "source": [
    "no_nap_s_bedtime = no_nap_bedtime.std()\n",
    "no_nap_s_bedtime"
   ]
  },
  {
   "cell_type": "code",
   "execution_count": 16,
   "metadata": {},
   "outputs": [
    {
     "data": {
      "text/plain": [
       "1176.5"
      ]
     },
     "execution_count": 16,
     "metadata": {},
     "output_type": "execute_result"
    }
   ],
   "source": [
    "s22 = no_nap_s_bedtime**2\n",
    "s22"
   ]
  },
  {
   "cell_type": "code",
   "execution_count": 17,
   "metadata": {},
   "outputs": [],
   "source": [
    "n1 = 15\n",
    "n2 = 5"
   ]
  },
  {
   "cell_type": "code",
   "execution_count": 18,
   "metadata": {},
   "outputs": [
    {
     "data": {
      "text/plain": [
       "21316.933333333338"
      ]
     },
     "execution_count": 18,
     "metadata": {},
     "output_type": "execute_result"
    }
   ],
   "source": [
    "numerator = (n1-1)*s12 + (n2-1)*s22\n",
    "numerator"
   ]
  },
  {
   "cell_type": "code",
   "execution_count": 19,
   "metadata": {},
   "outputs": [
    {
     "data": {
      "text/plain": [
       "18"
      ]
     },
     "execution_count": 19,
     "metadata": {},
     "output_type": "execute_result"
    }
   ],
   "source": [
    "denominator = n1+n2-2\n",
    "denominator"
   ]
  },
  {
   "cell_type": "code",
   "execution_count": 20,
   "metadata": {},
   "outputs": [
    {
     "data": {
      "text/plain": [
       "0.26666666666666666"
      ]
     },
     "execution_count": 20,
     "metadata": {},
     "output_type": "execute_result"
    }
   ],
   "source": [
    "element2 = (1/n1)+(1/n2)\n",
    "element2"
   ]
  },
  {
   "cell_type": "markdown",
   "metadata": {},
   "source": [
    "**Question**: What is the s.e.$(\\bar{X}_{nap} - \\bar{X}_{no\\ nap})$?\n",
    "\n",
    "We expect the variance in sleep time for toddlers who nap and toddlers who don't nap to be the same. So we use a pooled standard error.\n",
    "\n",
    "Calculate the pooled standard error of $\\bar{X}_{nap} - \\bar{X}_{no\\ nap}$ using the formula below.\n",
    "\n",
    "$s.e.(\\bar{X}_{nap} - \\bar{X}_{no\\ nap}) = \\sqrt{\\frac{(n_1-1)s_1^2 + (n_2-1)s_2^2}{n_1+n_2-2}(\\frac{1}{n_1}+\\frac{1}{n_2})}$"
   ]
  },
  {
   "cell_type": "code",
   "execution_count": 21,
   "metadata": {},
   "outputs": [
    {
     "name": "stdout",
     "output_type": "stream",
     "text": [
      "pooled: Ztest   (2.367160052079275, 0.017925179082180703)\n",
      "unequal: Ztest   (2.372449904068502, 0.017670559204472077)\n",
      "pooled: ttest_imd   (2.367160052079275, 0.014667451430902697, 18.0)\n",
      "unequal: ttest_ind   (2.372449904068502, 0.04984441347729212, 6.917984223110409)\n"
     ]
    }
   ],
   "source": [
    "import statsmodels.api as sm\n",
    "\n",
    "napper = df.loc[df.napping==1, \"night bedtime\"].dropna()\n",
    "napper = sm.stats.DescrStatsW(napper)\n",
    "nonapper = df.loc[df.napping==0, \"night bedtime\"].dropna()\n",
    "nonapper = sm.stats.DescrStatsW(nonapper)\n",
    "print(\"pooled: Ztest  \", sm.stats.CompareMeans(napper, nonapper).ztest_ind(usevar='pooled'))\n",
    "print(\"unequal: Ztest  \", sm.stats.CompareMeans(napper, nonapper).ztest_ind(usevar='unequal'))\n",
    "print(\"pooled: ttest_imd  \", sm.stats.CompareMeans(napper, nonapper).ttest_ind(usevar='pooled', alternative='larger'))\n",
    "print(\"unequal: ttest_ind  \", sm.stats.CompareMeans(napper, nonapper).ttest_ind(usevar='unequal'))\n"
   ]
  },
  {
   "cell_type": "code",
   "execution_count": 22,
   "metadata": {},
   "outputs": [
    {
     "data": {
      "text/plain": [
       "17.77094313065816"
      ]
     },
     "execution_count": 22,
     "metadata": {},
     "output_type": "execute_result"
    }
   ],
   "source": [
    "pooled_se = np.sqrt((numerator / denominator) * element2)\n",
    "pooled_se"
   ]
  },
  {
   "cell_type": "markdown",
   "metadata": {},
   "source": [
    "**Question**: Given our sample size of $n$, how many degrees of freedom ($df$) are there for the associated $t$ distribution?"
   ]
  },
  {
   "cell_type": "code",
   "execution_count": 23,
   "metadata": {},
   "outputs": [
    {
     "data": {
      "text/plain": [
       "19"
      ]
     },
     "execution_count": 23,
     "metadata": {},
     "output_type": "execute_result"
    }
   ],
   "source": [
    "19"
   ]
  },
  {
   "cell_type": "markdown",
   "metadata": {},
   "source": [
    "Now calculate the $t$-test statistic for our first hypothesis test using  \n",
    "* pooled s.e.($\\bar{X}_{nap} - \\bar{X}_{no\\ nap}$)  \n",
    "* $\\bar{X}_{nap} - \\bar{X}_{no\\ nap}$  \n",
    "* $\\mu_{0,\\ nap} - \\mu_{0,\\ no\\ nap}=0$, the population difference in means under the null hypothesis"
   ]
  },
  {
   "cell_type": "code",
   "execution_count": 24,
   "metadata": {},
   "outputs": [
    {
     "data": {
      "text/plain": [
       "2.367160052079275"
      ]
     },
     "execution_count": 24,
     "metadata": {},
     "output_type": "execute_result"
    }
   ],
   "source": [
    "test_statistic = (nap_mean_bedtime - no_nap_mean_bedtime - 0) / pooled_se\n",
    "test_statistic"
   ]
  },
  {
   "cell_type": "markdown",
   "metadata": {},
   "source": [
    "**Question**: What is the p-value for the first hypothesis test?"
   ]
  },
  {
   "cell_type": "markdown",
   "metadata": {},
   "source": [
    "To find the p-value, we can use the function:\n",
    "```\n",
    "t.cdf(y, df)\n",
    "```\n",
    "Which for $X \\sim t(df)$ returns $P(X \\leq y)$.\n",
    "\n",
    "Because of the symmetry of the $t$ distrubution, we have that \n",
    "```\n",
    "1-t.cdf(y, df)\n",
    "```\n",
    "returns $P(X > y)$\n",
    "\n",
    "The function t.cdf(y, df) will give you the same value as finding the one-tailed probability of y on a t-table with the specified degrees of freedom.\n",
    "\n",
    "Use the function t.cdf(y, df) to find the p-value for the first hypothesis test."
   ]
  },
  {
   "cell_type": "code",
   "execution_count": 25,
   "metadata": {},
   "outputs": [
    {
     "data": {
      "text/plain": [
       "0.008962589541090351"
      ]
     },
     "execution_count": 25,
     "metadata": {},
     "output_type": "execute_result"
    }
   ],
   "source": [
    "import scipy.stats.distributions as dist\n",
    "pvalue = dist.norm.cdf(-np.abs(test_statistic))\n",
    "pvalue #Single sided"
   ]
  },
  {
   "cell_type": "markdown",
   "metadata": {},
   "source": [
    "**Question**: What are the t-statistic and p-value for the second hypothesis test?\n",
    "\n",
    "Calculate the $t$ test statistics and corresponding p-value using the scipy function scipy.stats.ttest_ind(a, b, equal_var=True) and check with your answer. \n",
    "\n",
    "**Question**: Does scipy.stats.ttest_ind return values for a one-sided or two-sided test? 2\n",
    "\n",
    "**Question**: Can you think of a way to recover the results you got using 1-t.cdf from the p-value given by scipy.stats.ttest_ind?\n",
    "\n",
    "Use the scipy function scipy.stats.ttest_ind(a, b, equal_var=True) to find the $t$ test statistic and corresponding p-value for the second hypothesis test."
   ]
  },
  {
   "cell_type": "code",
   "execution_count": 26,
   "metadata": {},
   "outputs": [
    {
     "data": {
      "text/plain": [
       "Ttest_indResult(statistic=2.367160052079275, pvalue=0.029334902861805394)"
      ]
     },
     "execution_count": 26,
     "metadata": {},
     "output_type": "execute_result"
    }
   ],
   "source": [
    "import scipy\n",
    "from scipy import stats\n",
    "x = scipy.stats.ttest_ind(df.loc[df.napping==1, \"night bedtime\"].dropna(), df.loc[df.napping==0, \"night bedtime\"].dropna(), equal_var=True)\n",
    "x"
   ]
  },
  {
   "cell_type": "code",
   "execution_count": 28,
   "metadata": {},
   "outputs": [
    {
     "name": "stdout",
     "output_type": "stream",
     "text": [
      "0.029334902861805394 !=\n",
      "0.014667451430902697 > or <\n"
     ]
    }
   ],
   "source": [
    "print(x[1], '!=')\n",
    "print(x[1]/2, '> or <')"
   ]
  },
  {
   "cell_type": "markdown",
   "metadata": {},
   "source": [
    "**Question**: For the $\\alpha=.025$, do you reject or fail to reject the first hypothesis?\n",
    "reject\n",
    "\n",
    "**Question**: For the $\\alpha=.025$, do you reject or fail to reject the second hypothesis?\n",
    "fail to reject"
   ]
  }
 ],
 "metadata": {
  "kernelspec": {
   "display_name": "Python 3",
   "language": "python",
   "name": "python3"
  },
  "language_info": {
   "codemirror_mode": {
    "name": "ipython",
    "version": 3
   },
   "file_extension": ".py",
   "mimetype": "text/x-python",
   "name": "python",
   "nbconvert_exporter": "python",
   "pygments_lexer": "ipython3",
   "version": "3.8.2"
  }
 },
 "nbformat": 4,
 "nbformat_minor": 4
}
