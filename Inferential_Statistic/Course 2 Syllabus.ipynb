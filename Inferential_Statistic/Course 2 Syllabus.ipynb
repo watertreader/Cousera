{
 "cells": [
  {
   "cell_type": "markdown",
   "metadata": {},
   "source": [
    "# Topics for the course:\n",
    "\n",
    "## Week 1:\n",
    "### Preview of inference\n",
    "\n",
    "* Bag A or bag B\n",
    "* This or that? Language and notations \n",
    "\n",
    "\n",
    "## Week 2:\n",
    "### Confidence Intervals\n",
    "\n",
    "* What is that parameter value?\n",
    "* How to estimate parameters with confidence?\n",
    "* Go beyond our best estimate, Margin of error,  getting a range of reasonable values that we can be confident might be reasonable for that parameter\n",
    "\n",
    "## Week 3:\n",
    "### Hypothesis Testing\n",
    "\n",
    "* Is there a significance difference\n",
    "* Hypothesis testing techniques\n",
    "* Take our data, convert it to a test statistic, work our a p value work out corresponding p-value, to help us make a decision between competing theories\n",
    "* p-values, p-hacking, and some good practices, when conducting research\n",
    "\n",
    "## Week 4:\n",
    "### Learning applications and deep dives\n",
    "\n",
    "* working on learning applications, and taking some deeper dives into some other concepts\n",
    "* practice at doing a lot more communicating of the inferential results\n",
    "* handle complex sampling designs, and talk of a little bit about some alternative methods for inference"
   ]
  }
 ],
 "metadata": {
  "kernelspec": {
   "display_name": "Python 3",
   "language": "python",
   "name": "python3"
  },
  "language_info": {
   "codemirror_mode": {
    "name": "ipython",
    "version": 3
   },
   "file_extension": ".py",
   "mimetype": "text/x-python",
   "name": "python",
   "nbconvert_exporter": "python",
   "pygments_lexer": "ipython3",
   "version": "3.8.2"
  }
 },
 "nbformat": 4,
 "nbformat_minor": 4
}
